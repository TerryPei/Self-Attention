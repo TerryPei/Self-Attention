{
 "cells": [
  {
   "cell_type": "markdown",
   "metadata": {},
   "source": [
    "# demo2\n",
    "## Performance on Recommendation scores"
   ]
  },
  {
   "cell_type": "code",
   "execution_count": 1,
   "metadata": {},
   "outputs": [],
   "source": [
    "import numpy as np\n",
    "import torch\n",
    "import torch.nn as nn\n",
    "import torch.optim as optim\n",
    "import torch.utils.data as Data\n",
    "import torchvision\n",
    "import matplotlib.pyplot as plt\n",
    "%matplotlib inline\n",
    "import Dina\n",
    "from Dina import McmcHoDina\n",
    "from Dina import MlDina\n",
    "import pandas as pd\n",
    "from utils import r4beta\n",
    "from sklearn.model_selection import KFold\n",
    "from sklearn import metrics\n",
    "from sklearn.metrics import accuracy_score, precision_score, recall_score, f1_score, roc_auc_score\n",
    "import progressbar\n",
    "from transformer import MyDataSet, Transformer"
   ]
  },
  {
   "cell_type": "code",
   "execution_count": 3,
   "metadata": {},
   "outputs": [],
   "source": [
    "def load_data(path, ratio):\n",
    "    full_data = pd.read_csv(path + 'data.txt', header=None, sep='\\t').values\n",
    "    q_matrix = pd.read_csv(path + 'q.txt', header=None, sep='\\t').values\n",
    "    num_samples, num_items, num_skills = full_data.shape[0], full_data.shape[1], q_matrix.shape[1]\n",
    "    \n",
    "    train_data = full_data[ : int(num_samples * ratio)]\n",
    "    train_data = binary_classify(train_data)\n",
    "    test_data = full_data[int(num_samples * ratio): ]\n",
    "    test_data = binary_classify(test_data)\n",
    "    \n",
    "    return train_data, test_data, q_matrix, num_samples, num_items, num_skills\n",
    "\n",
    "def binary_classify(data):\n",
    "    data[data <= 0.5] = 0\n",
    "    data[data > 0.5] = 1\n",
    "    return data.astype(np.int64)\n",
    "\n",
    "def get_scores(pred_scores, true_scores):\n",
    "\n",
    "    fpr, tpr, thresholds = metrics.roc_curve(true_scores, pred_scores)\n",
    "    # accuracy, precision, recall, f1\n",
    "    accuracy = accuracy_score(true_scores, pred_scores)\n",
    "    precision = precision_score(true_scores, pred_scores)\n",
    "    recall = recall_score(true_scores, pred_scores)\n",
    "    f1 = f1_score(true_scores, pred_scores)\n",
    "    \n",
    "    roc_auc = roc_auc_score(true_scores, pred_scores)\n",
    "\n",
    "    return accuracy, precision, recall, f1, fpr, tpr, thresholds, roc_auc"
   ]
  },
  {
   "cell_type": "code",
   "execution_count": 5,
   "metadata": {},
   "outputs": [],
   "source": [
    "def get_prior_skills(x, y, q_matrix):\n",
    "    guess = r4beta(1, 2, 0, 0.6, (1, x.shape[1]))\n",
    "    slip = r4beta(1, 2, 0, 0.6, (1, x.shape[1]))\n",
    "    max_iter = 100\n",
    "    tol = 1e-5\n",
    "    EmDina = Dina.EmDina(guess, slip, max_iter, tol, q_matrix, x)\n",
    "    est_s, est_g = EmDina.em()\n",
    "    dina_est = Dina.MlDina(est_g, est_s, q_matrix, y)\n",
    "    est_skills = dina_est.get_skills_by_Ml()\n",
    "    return est_skills"
   ]
  },
  {
   "cell_type": "code",
   "execution_count": 6,
   "metadata": {},
   "outputs": [],
   "source": [
    "train_data1, test_data1, q_matrix1, num_samples1, num_items1, num_skills1 = load_data('./FrcSub/', 0.8)\n",
    "train_data2, test_data2, q_matrix2, num_samples2, num_items2, num_skills2 = load_data('./Math1/', 0.8)\n",
    "train_data3, test_data3, q_matrix3, num_samples3, num_items3, num_skills3 = load_data('./Math2/', 0.8)"
   ]
  },
  {
   "cell_type": "code",
   "execution_count": 43,
   "metadata": {},
   "outputs": [
    {
     "name": "stdout",
     "output_type": "stream",
     "text": [
      "10\n"
     ]
    }
   ],
   "source": [
    "x_train, y_train, q_matrix, num_samples, num_items, num_skills = train_data1, train_data1, q_matrix1, num_samples1, num_items1, num_skills1\n",
    "x_valid, y_valid = test_data1, test_data1\n",
    "\n",
    "src_len = num_items # enc_input max sequence length\n",
    "tgt_len = num_items # dec_input(=dec_output) max sequence length\n",
    "\n",
    "est_skills = get_prior_skills(x_train, y_train, q_matrix)\n",
    "\n",
    "enc_inputs = torch.LongTensor(x_train)\n",
    "dec_inputs = torch.LongTensor(est_skills)\n",
    "dec_outputs = torch.FloatTensor(y_train)\n",
    "batch_size = int(num_samples / 50)\n",
    "print(batch_size)"
   ]
  },
  {
   "cell_type": "code",
   "execution_count": 40,
   "metadata": {},
   "outputs": [],
   "source": [
    "model = Transformer(num_items, num_skills, d_model=512, d_ff=2048, d_k=64, d_v=64, n_layers=6, n_heads=8, batch_size=10)"
   ]
  },
  {
   "cell_type": "code",
   "execution_count": 17,
   "metadata": {},
   "outputs": [
    {
     "name": "stdout",
     "output_type": "stream",
     "text": [
      "CPU times: user 1min 4s, sys: 21.4 s, total: 1min 26s\n",
      "Wall time: 1min 18s\n"
     ]
    }
   ],
   "source": [
    "%%time\n",
    "outputs, enc_self_attns, dec_self_attns, dec_enc_attns = model(enc_inputs, dec_inputs)"
   ]
  },
  {
   "cell_type": "code",
   "execution_count": 23,
   "metadata": {},
   "outputs": [],
   "source": [
    "model = Transformer(num_items, num_skills, d_model=2, d_ff=64, d_k=2, d_v=2, n_layers=3, n_heads=8, batch_size=50)"
   ]
  },
  {
   "cell_type": "code",
   "execution_count": 24,
   "metadata": {},
   "outputs": [
    {
     "name": "stdout",
     "output_type": "stream",
     "text": [
      "CPU times: user 1.58 s, sys: 1.79 s, total: 3.37 s\n",
      "Wall time: 2.34 s\n"
     ]
    }
   ],
   "source": [
    "%%time\n",
    "outputs, enc_self_attns, dec_self_attns, dec_enc_attns = model(enc_inputs, dec_inputs)"
   ]
  },
  {
   "cell_type": "code",
   "execution_count": 25,
   "metadata": {},
   "outputs": [],
   "source": [
    "model = Transformer(num_items, num_skills, d_model=512, d_ff=64, d_k=2, d_v=2, n_layers=3, n_heads=8, batch_size=50)"
   ]
  },
  {
   "cell_type": "code",
   "execution_count": 26,
   "metadata": {},
   "outputs": [
    {
     "name": "stdout",
     "output_type": "stream",
     "text": [
      "CPU times: user 3.38 s, sys: 3.26 s, total: 6.64 s\n",
      "Wall time: 3.12 s\n"
     ]
    }
   ],
   "source": [
    "%%time\n",
    "outputs, enc_self_attns, dec_self_attns, dec_enc_attns = model(enc_inputs, dec_inputs)"
   ]
  },
  {
   "cell_type": "code",
   "execution_count": 27,
   "metadata": {},
   "outputs": [],
   "source": [
    "model = Transformer(num_items, num_skills, d_model=512, d_ff=64, d_k=32, d_v=32, n_layers=3, n_heads=8, batch_size=50)"
   ]
  },
  {
   "cell_type": "code",
   "execution_count": 28,
   "metadata": {},
   "outputs": [
    {
     "name": "stdout",
     "output_type": "stream",
     "text": [
      "CPU times: user 10.1 s, sys: 5.33 s, total: 15.4 s\n",
      "Wall time: 14.5 s\n"
     ]
    }
   ],
   "source": [
    "%%time\n",
    "outputs, enc_self_attns, dec_self_attns, dec_enc_attns = model(enc_inputs, dec_inputs)"
   ]
  },
  {
   "cell_type": "code",
   "execution_count": 30,
   "metadata": {},
   "outputs": [],
   "source": [
    "model = Transformer(num_items, num_skills, d_model=512, d_ff=64, d_k=16, d_v=16, n_layers=3, n_heads=8, batch_size=50)"
   ]
  },
  {
   "cell_type": "code",
   "execution_count": 31,
   "metadata": {},
   "outputs": [
    {
     "name": "stdout",
     "output_type": "stream",
     "text": [
      "CPU times: user 6.6 s, sys: 4.55 s, total: 11.2 s\n",
      "Wall time: 9.35 s\n"
     ]
    }
   ],
   "source": [
    "%%time\n",
    "outputs, enc_self_attns, dec_self_attns, dec_enc_attns = model(enc_inputs, dec_inputs)"
   ]
  },
  {
   "cell_type": "markdown",
   "metadata": {},
   "source": [
    "### Considering forward time, we choose the last model as our demo"
   ]
  },
  {
   "cell_type": "code",
   "execution_count": 48,
   "metadata": {},
   "outputs": [
    {
     "name": "stdout",
     "output_type": "stream",
     "text": [
      "Epoch: 0001 loss = 0.528552\n",
      "Epoch: 0002 loss = 0.271489\n",
      "Epoch: 0003 loss = 0.246579\n",
      "Epoch: 0004 loss = 0.212890\n",
      "Epoch: 0005 loss = 0.175607\n",
      "Epoch: 0006 loss = 0.122475\n",
      "Epoch: 0007 loss = 0.163708\n",
      "Epoch: 0008 loss = 0.112872\n",
      "Epoch: 0009 loss = 0.086000\n",
      "Epoch: 0010 loss = 0.101872\n",
      "Epoch: 0011 loss = 0.089428\n",
      "Epoch: 0012 loss = 0.146569\n",
      "Epoch: 0013 loss = 0.111729\n",
      "Epoch: 0014 loss = 0.108395\n",
      "Epoch: 0015 loss = 0.151216\n",
      "Epoch: 0016 loss = 0.093755\n",
      "Epoch: 0017 loss = 0.089184\n",
      "Epoch: 0018 loss = 0.116921\n",
      "Epoch: 0019 loss = 0.096985\n",
      "Epoch: 0020 loss = 0.131669\n",
      "Epoch: 0021 loss = 0.097061\n",
      "Epoch: 0022 loss = 0.112368\n",
      "Epoch: 0023 loss = 0.110377\n",
      "Epoch: 0024 loss = 0.078567\n",
      "Epoch: 0025 loss = 0.106326\n",
      "Epoch: 0026 loss = 0.110957\n",
      "Epoch: 0027 loss = 0.086605\n",
      "Epoch: 0028 loss = 0.098845\n",
      "Epoch: 0029 loss = 0.085907\n",
      "Epoch: 0030 loss = 0.098897\n",
      "Epoch: 0031 loss = 0.124780\n",
      "Epoch: 0032 loss = 0.093945\n",
      "Epoch: 0033 loss = 0.133154\n",
      "Epoch: 0034 loss = 0.138789\n",
      "Epoch: 0035 loss = 0.093397\n",
      "Epoch: 0036 loss = 0.088163\n",
      "Epoch: 0037 loss = 0.075890\n",
      "Epoch: 0038 loss = 0.088524\n",
      "Epoch: 0039 loss = 0.094285\n",
      "Epoch: 0040 loss = 0.095963\n",
      "Epoch: 0041 loss = 0.092095\n",
      "Epoch: 0042 loss = 0.075529\n",
      "Epoch: 0043 loss = 0.081757\n",
      "Epoch: 0044 loss = 0.086083\n",
      "Epoch: 0045 loss = 0.103835\n",
      "Epoch: 0046 loss = 0.121951\n",
      "Epoch: 0047 loss = 0.088256\n",
      "Epoch: 0048 loss = 0.083349\n",
      "Epoch: 0049 loss = 0.080890\n",
      "Epoch: 0050 loss = 0.068181\n",
      "Accuracy: 0.912963 | Precision: 0.900609 | Recall: 0.907975 | F1: 0.904277 | AUC: 0.912533\n"
     ]
    }
   ],
   "source": [
    "loader = Data.DataLoader(MyDataSet(enc_inputs, dec_inputs, dec_outputs), batch_size, True)\n",
    "model = Transformer(num_items, num_skills, d_model=512, d_ff=64, d_k=16, d_v=16, n_layers=3, n_heads=8, batch_size=batch_size)\n",
    "loss_func = nn.MSELoss()\n",
    "#optimizer = optim.SGD(model.parameters(), lr=1e-3)\n",
    "optimizer =optim.Adam(model.parameters(), lr=1e-3, betas=(0.9, 0.999), eps=1e-08, weight_decay=0, amsgrad=False)\n",
    "\n",
    "loss_his = []\n",
    "load = 1\n",
    "for epoch in range(50):\n",
    "\n",
    "    for enc_inputs_batch, dec_inputs_batch, dec_outputs_batch in loader:\n",
    "\n",
    "        outputs_batch, enc_self_attns, dec_self_attns, dec_enc_attns = model(enc_inputs_batch, dec_inputs_batch)\n",
    "\n",
    "        #print(outputs.shape, dec_outputs.shape) # outputs[400, 20]: 400 = 50(batch_size) * 8(tgt_len), 20(tgt_vocab_size) # dec_outputs[50, 8]: [batch_size, tgt_len]\n",
    "        #break\n",
    "        loss = loss_func(outputs_batch, dec_outputs_batch)\n",
    "        loss_his.append(loss.data.item())\n",
    "        #print(loss.dtype)\n",
    "        optimizer.zero_grad()\n",
    "        loss.backward()\n",
    "        optimizer.step()\n",
    "    print('Epoch:', '%04d' % (epoch + 1), 'loss =', '{:.6f}'.format(loss))\n",
    "\n",
    "# test on validation dataset:\n",
    "with torch.no_grad():\n",
    "    est_skills = get_prior_skills(x_valid, y_valid, q_matrix)\n",
    "    enc_inputs = torch.LongTensor(x_valid)\n",
    "    dec_inputs = torch.LongTensor(est_skills)\n",
    "    dec_outputs = torch.FloatTensor(y_valid)\n",
    "    outputs, enc_self_attns, dec_self_attns, dec_enc_attns = model(enc_inputs, dec_inputs)\n",
    "    predict = outputs.detach().numpy()\n",
    "    predict[predict > 0.5] = 1\n",
    "    predict[predict <= 0.5] = 0\n",
    "    predict = predict.astype(np.int64)\n",
    "    pred = predict.reshape(-1)\n",
    "    true = y_valid.reshape(-1)\n",
    "\n",
    "\n",
    "accuracy, precision, recall, f1, fpr, tpr, thresholds, roc_auc = get_scores(pred, true)\n",
    "print(\"Accuracy: {:4.6f} | Precision: {:4.6f} | Recall: {:4.6f} | F1: {:4.6f} | AUC: {:4.6f}\".format(accuracy, precision, recall, f1, roc_auc))"
   ]
  }
 ],
 "metadata": {
  "kernelspec": {
   "display_name": "Python 3",
   "language": "python",
   "name": "python3"
  },
  "language_info": {
   "codemirror_mode": {
    "name": "ipython",
    "version": 3
   },
   "file_extension": ".py",
   "mimetype": "text/x-python",
   "name": "python",
   "nbconvert_exporter": "python",
   "pygments_lexer": "ipython3",
   "version": "3.8.3"
  }
 },
 "nbformat": 4,
 "nbformat_minor": 4
}
